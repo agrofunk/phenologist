{
 "cells": [
  {
   "cell_type": "code",
   "execution_count": 9,
   "metadata": {},
   "outputs": [],
   "source": [
    "import xarray as xr\n",
    "from dea_tools.temporal import xr_phenology\n",
    "import numpy as np\n",
    "import warnings\n",
    "warnings.filterwarnings(\"ignore\")"
   ]
  },
  {
   "cell_type": "code",
   "execution_count": 10,
   "metadata": {},
   "outputs": [],
   "source": [
    "df = xr.open_dataset('/mnt/geodata/Clientes/0FARMS/a5b9ae81-434a-4224-a81a-3c0ba44102b8/results/LAI_mgap_90_w_7_v2.nc')"
   ]
  },
  {
   "cell_type": "code",
   "execution_count": 11,
   "metadata": {},
   "outputs": [],
   "source": [
    "suffix = 'safra'\n",
    "\n",
    "# the metrics\n",
    "basic_pheno_stats = [\n",
    "    \"SOS\",\"vSOS\",\n",
    "    \"POS\", \"vPOS\",\n",
    "    \"EOS\", \"vEOS\",\n",
    "    \"Trough\", \"LOS\",\"AOS\",\n",
    "    \"ROG\",\"ROS\",\n",
    "]\n",
    "method_sos = \"first\"\n",
    "method_eos = \"last\""
   ]
  },
  {
   "cell_type": "markdown",
   "metadata": {},
   "source": [
    "#### Trying the loop, weird error"
   ]
  },
  {
   "cell_type": "code",
   "execution_count": 22,
   "metadata": {},
   "outputs": [
    {
     "name": "stderr",
     "output_type": "stream",
     "text": [
      "/home/mad/geo/lib/python3.10/site-packages/xarray/core/duck_array_ops.py:215: RuntimeWarning: invalid value encountered in cast\n",
      "  return data.astype(dtype, **kwargs)\n",
      "/home/mad/geo/lib/python3.10/site-packages/xarray/core/duck_array_ops.py:215: RuntimeWarning: invalid value encountered in cast\n",
      "  return data.astype(dtype, **kwargs)\n",
      "/home/mad/geo/lib/python3.10/site-packages/xarray/core/duck_array_ops.py:215: RuntimeWarning: invalid value encountered in cast\n",
      "  return data.astype(dtype, **kwargs)\n",
      "/home/mad/geo/lib/python3.10/site-packages/xarray/core/duck_array_ops.py:215: RuntimeWarning: invalid value encountered in cast\n",
      "  return data.astype(dtype, **kwargs)\n",
      "/home/mad/geo/lib/python3.10/site-packages/xarray/core/duck_array_ops.py:215: RuntimeWarning: invalid value encountered in cast\n",
      "  return data.astype(dtype, **kwargs)\n",
      "/home/mad/geo/lib/python3.10/site-packages/xarray/core/duck_array_ops.py:215: RuntimeWarning: invalid value encountered in cast\n",
      "  return data.astype(dtype, **kwargs)\n",
      "/home/mad/geo/lib/python3.10/site-packages/xarray/core/duck_array_ops.py:215: RuntimeWarning: invalid value encountered in cast\n",
      "  return data.astype(dtype, **kwargs)\n",
      "/home/mad/geo/lib/python3.10/site-packages/xarray/core/duck_array_ops.py:215: RuntimeWarning: invalid value encountered in cast\n",
      "  return data.astype(dtype, **kwargs)\n",
      "/home/mad/geo/lib/python3.10/site-packages/xarray/core/duck_array_ops.py:215: RuntimeWarning: invalid value encountered in cast\n",
      "  return data.astype(dtype, **kwargs)\n",
      "/home/mad/geo/lib/python3.10/site-packages/xarray/core/duck_array_ops.py:215: RuntimeWarning: invalid value encountered in cast\n",
      "  return data.astype(dtype, **kwargs)\n",
      "/home/mad/geo/lib/python3.10/site-packages/xarray/core/duck_array_ops.py:215: RuntimeWarning: invalid value encountered in cast\n",
      "  return data.astype(dtype, **kwargs)\n",
      "/home/mad/geo/lib/python3.10/site-packages/xarray/core/duck_array_ops.py:215: RuntimeWarning: invalid value encountered in cast\n",
      "  return data.astype(dtype, **kwargs)\n",
      "/home/mad/geo/lib/python3.10/site-packages/xarray/core/duck_array_ops.py:215: RuntimeWarning: invalid value encountered in cast\n",
      "  return data.astype(dtype, **kwargs)\n",
      "/home/mad/geo/lib/python3.10/site-packages/xarray/core/duck_array_ops.py:215: RuntimeWarning: invalid value encountered in cast\n",
      "  return data.astype(dtype, **kwargs)\n",
      "/home/mad/geo/lib/python3.10/site-packages/xarray/core/duck_array_ops.py:215: RuntimeWarning: invalid value encountered in cast\n",
      "  return data.astype(dtype, **kwargs)\n",
      "/home/mad/geo/lib/python3.10/site-packages/xarray/core/duck_array_ops.py:215: RuntimeWarning: invalid value encountered in cast\n",
      "  return data.astype(dtype, **kwargs)\n",
      "/home/mad/geo/lib/python3.10/site-packages/xarray/core/duck_array_ops.py:215: RuntimeWarning: invalid value encountered in cast\n",
      "  return data.astype(dtype, **kwargs)\n",
      "/home/mad/geo/lib/python3.10/site-packages/xarray/core/duck_array_ops.py:215: RuntimeWarning: invalid value encountered in cast\n",
      "  return data.astype(dtype, **kwargs)\n",
      "/home/mad/geo/lib/python3.10/site-packages/xarray/core/duck_array_ops.py:215: RuntimeWarning: invalid value encountered in cast\n",
      "  return data.astype(dtype, **kwargs)\n",
      "/home/mad/geo/lib/python3.10/site-packages/xarray/core/duck_array_ops.py:215: RuntimeWarning: invalid value encountered in cast\n",
      "  return data.astype(dtype, **kwargs)\n",
      "/home/mad/geo/lib/python3.10/site-packages/xarray/core/duck_array_ops.py:215: RuntimeWarning: invalid value encountered in cast\n",
      "  return data.astype(dtype, **kwargs)\n",
      "/home/mad/geo/lib/python3.10/site-packages/xarray/core/duck_array_ops.py:215: RuntimeWarning: invalid value encountered in cast\n",
      "  return data.astype(dtype, **kwargs)\n"
     ]
    }
   ],
   "source": [
    "dates = []\n",
    "for year in np.unique(df.time.dt.year)[:-1]:\n",
    "    da = df['LAI'].sel(time=slice(f'{year}-06-20',f'{year+1}-03-25'))\n",
    "    da = da.compute()\n",
    "    stats = xr_phenology( da, method_sos=method_sos, method_eos=method_eos, stats=basic_pheno_stats,\n",
    "                    verbose=False )\n",
    "    # add results to dict\n",
    "    #datelabel = f'{year}-06-20'\n",
    "    date = np.datetime64(f'{year}-06-20')\n",
    "    dates.append(date)\n",
    "    stats = stats.expand_dims(dim='time')\n",
    "    stats.to_netcdf(f'/mnt/geodata/Clientes/0FARMS/a5b9ae81-434a-4224-a81a-3c0ba44102b8/results/ph_{year}_{suffix}.nc')\n",
    "    del da, stats\n"
   ]
  },
  {
   "cell_type": "code",
   "execution_count": 20,
   "metadata": {},
   "outputs": [],
   "source": [
    "stats2 = stats.expand_dims(dim='time')"
   ]
  },
  {
   "cell_type": "code",
   "execution_count": 15,
   "metadata": {},
   "outputs": [],
   "source": [
    "from glob import glob"
   ]
  },
  {
   "cell_type": "code",
   "execution_count": 26,
   "metadata": {},
   "outputs": [
    {
     "data": {
      "text/plain": [
       "['/mnt/geodata/Clientes/0FARMS/a5b9ae81-434a-4224-a81a-3c0ba44102b8/results/ph_2013_safra.nc',\n",
       " '/mnt/geodata/Clientes/0FARMS/a5b9ae81-434a-4224-a81a-3c0ba44102b8/results/ph_2014_safra.nc',\n",
       " '/mnt/geodata/Clientes/0FARMS/a5b9ae81-434a-4224-a81a-3c0ba44102b8/results/ph_2015_safra.nc',\n",
       " '/mnt/geodata/Clientes/0FARMS/a5b9ae81-434a-4224-a81a-3c0ba44102b8/results/ph_2016_safra.nc',\n",
       " '/mnt/geodata/Clientes/0FARMS/a5b9ae81-434a-4224-a81a-3c0ba44102b8/results/ph_2017_safra.nc',\n",
       " '/mnt/geodata/Clientes/0FARMS/a5b9ae81-434a-4224-a81a-3c0ba44102b8/results/ph_2018_safra.nc',\n",
       " '/mnt/geodata/Clientes/0FARMS/a5b9ae81-434a-4224-a81a-3c0ba44102b8/results/ph_2019_safra.nc',\n",
       " '/mnt/geodata/Clientes/0FARMS/a5b9ae81-434a-4224-a81a-3c0ba44102b8/results/ph_2020_safra.nc',\n",
       " '/mnt/geodata/Clientes/0FARMS/a5b9ae81-434a-4224-a81a-3c0ba44102b8/results/ph_2021_safra.nc',\n",
       " '/mnt/geodata/Clientes/0FARMS/a5b9ae81-434a-4224-a81a-3c0ba44102b8/results/ph_2022_safra.nc',\n",
       " '/mnt/geodata/Clientes/0FARMS/a5b9ae81-434a-4224-a81a-3c0ba44102b8/results/ph_2023_safra.nc']"
      ]
     },
     "execution_count": 26,
     "metadata": {},
     "output_type": "execute_result"
    }
   ],
   "source": [
    "files = sorted(glob('/mnt/geodata/Clientes/0FARMS/a5b9ae81-434a-4224-a81a-3c0ba44102b8/results/ph*safra.nc'))\n",
    "files"
   ]
  },
  {
   "cell_type": "code",
   "execution_count": 29,
   "metadata": {},
   "outputs": [],
   "source": [
    "DF = xr.open_mfdataset(files, concat_dim='time', combine='nested')"
   ]
  },
  {
   "cell_type": "code",
   "execution_count": 34,
   "metadata": {},
   "outputs": [
    {
     "name": "stderr",
     "output_type": "stream",
     "text": [
      "/tmp/ipykernel_146889/689999748.py:1: UserWarning: Converting non-nanosecond precision datetime values to nanosecond precision. This behavior can eventually be relaxed in xarray, as it is an artifact from pandas which is now beginning to support non-nanosecond precision values. This warning is caused by passing non-nanosecond np.datetime64 or np.timedelta64 values to the DataArray or Variable constructor; it can be silenced by converting the values to nanosecond precision ahead of time.\n",
      "  DF = DF.assign_coords({'time':dates})\n"
     ]
    }
   ],
   "source": [
    "DF = DF.assign_coords({'time':dates})"
   ]
  },
  {
   "cell_type": "code",
   "execution_count": 36,
   "metadata": {},
   "outputs": [],
   "source": [
    "DF.to_netcdf('/mnt/geodata/Clientes/0FARMS/a5b9ae81-434a-4224-a81a-3c0ba44102b8/results/phenology_safra.nc')"
   ]
  },
  {
   "cell_type": "code",
   "execution_count": 33,
   "metadata": {},
   "outputs": [
    {
     "data": {
      "text/plain": [
       "[numpy.datetime64('2013-06-20'),\n",
       " numpy.datetime64('2014-06-20'),\n",
       " numpy.datetime64('2015-06-20'),\n",
       " numpy.datetime64('2016-06-20'),\n",
       " numpy.datetime64('2017-06-20'),\n",
       " numpy.datetime64('2018-06-20'),\n",
       " numpy.datetime64('2019-06-20'),\n",
       " numpy.datetime64('2020-06-20'),\n",
       " numpy.datetime64('2021-06-20'),\n",
       " numpy.datetime64('2022-06-20'),\n",
       " numpy.datetime64('2023-06-20')]"
      ]
     },
     "execution_count": 33,
     "metadata": {},
     "output_type": "execute_result"
    }
   ],
   "source": [
    "dates"
   ]
  },
  {
   "cell_type": "code",
   "execution_count": null,
   "metadata": {},
   "outputs": [],
   "source": []
  }
 ],
 "metadata": {
  "kernelspec": {
   "display_name": "geo",
   "language": "python",
   "name": "python3"
  },
  "language_info": {
   "codemirror_mode": {
    "name": "ipython",
    "version": 3
   },
   "file_extension": ".py",
   "mimetype": "text/x-python",
   "name": "python",
   "nbconvert_exporter": "python",
   "pygments_lexer": "ipython3",
   "version": "3.10.12"
  }
 },
 "nbformat": 4,
 "nbformat_minor": 2
}

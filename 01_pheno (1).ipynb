{
 "cells": [
  {
   "cell_type": "code",
   "execution_count": null,
   "metadata": {},
   "outputs": [],
   "source": [
    "import xarray as xr\n",
    "import pandas as pd\n",
    "import geopandas as gpd\n",
    "import matplotlib.pyplot as plt\n",
    "import matplotlib\n",
    "import numpy as np\n",
    "matplotlib.use('TkAgg')\n",
    "\n",
    "import warnings\n",
    "warnings.filterwarnings(\"ignore\")\n",
    "\n",
    "from glob import glob\n",
    "from dea_tools.temporal import temporal_statistics, xr_phenology\n",
    "from dea_tools.spatial import xr_rasterize\n",
    "from utils import calculate_indices, open_ncs\n",
    "import hvplot.pandas\n",
    "import hvplot.xarray\n",
    "\n",
    "import holoviews as hv\n",
    "from holoviews import opts\n",
    "hv.extension('bokeh')\n",
    "\n",
    "import datetime as dt\n",
    "\n",
    "\n",
    "\n",
    "%matplotlib inline"
   ]
  },
  {
   "cell_type": "markdown",
   "metadata": {},
   "source": [
    "Começando pela fazenda da MaVi\n",
    "\n",
    "-18.07179°,-50.79121°"
   ]
  },
  {
   "cell_type": "code",
   "execution_count": null,
   "metadata": {},
   "outputs": [],
   "source": [
    "parcels = gpd.read_file('/mnt/geodata/Clientes/Mavi/limites_formosa_do_rio_preto.gpkg', layer='talhoes')\n",
    "farm = gpd.read_file('/mnt/geodata/Clientes/Mavi/limites_formosa_do_rio_preto.gpkg')\n",
    "folder = '/mnt/geodata/Clientes/0FARMS/9a151331-1b50-4804-b416-c217d45d6ac6/'\n",
    "files = sorted(glob(f'{folder}/L*.nc'))\n",
    "files"
   ]
  },
  {
   "cell_type": "code",
   "execution_count": null,
   "metadata": {},
   "outputs": [],
   "source": [
    "#parcels = gpd.read_file('/mnt/geodata/Clientes/Mavi/limites_formosa_do_rio_preto.gpkg', layer='talhoes')\n",
    "farmgroupid = '2a80d89c-659a-4122-95a8-6a38288f879a'\n",
    "farm = gpd.read_file('/mnt/geodata/Clientes/x_MT_lookslikenewfields/fewfarms.gpkg')\n",
    "parcels = farm\n",
    "folder = f'/mnt/geodata/Clientes/0FARMS/{farmgroupid}/'\n",
    "files = sorted(glob(f'{folder}/L*.nc'))\n",
    "files"
   ]
  },
  {
   "cell_type": "code",
   "execution_count": null,
   "metadata": {},
   "outputs": [],
   "source": [
    "ds = open_ncs(folder,'Lan')\n",
    "ds.dims"
   ]
  },
  {
   "cell_type": "code",
   "execution_count": null,
   "metadata": {},
   "outputs": [],
   "source": [
    "ds1 = ds.resample(time='W').max(skipna=True)\n",
    "ds1.dims"
   ]
  },
  {
   "cell_type": "code",
   "execution_count": null,
   "metadata": {},
   "outputs": [],
   "source": [
    "ds1['T']"
   ]
  },
  {
   "cell_type": "code",
   "execution_count": null,
   "metadata": {},
   "outputs": [],
   "source": [
    "vi = 'LAI'\n",
    "vis = calculate_indices( ds1 , index = [vi], drop = True, collection = 'Landsat')\n",
    "#vis['kNDVI'] = xr.where(vis['kNDVI'] > 0.4, np.nan, vis['kNDVI'])\n",
    "# vis['NDVI'] = xr.where((vis['NDVI'] > 0.74) | (vis['NDVI'] < -0.05), np.nan, vis['NDVI'])\n",
    "vis[vi] = xr.where((vis[vi] > 7.4) | (vis[vi] < 1), np.nan, vis[vi])\n"
   ]
  },
  {
   "cell_type": "markdown",
   "metadata": {},
   "source": [
    "### filtering, gap-filling, smoothening,\n",
    "all that is need to have a nice dataset for **phenology** \n",
    "\n",
    "- I've tested smoothening window and 3 and 5 worked well. "
   ]
  },
  {
   "cell_type": "code",
   "execution_count": null,
   "metadata": {},
   "outputs": [],
   "source": [
    "# xr.corr(vis['LAI'],vis['NDVI'], dim='time').values.mean()\n",
    "days = 80\n",
    "window = 5\n",
    "vis_f1 = vis[vi].interpolate_na( dim = 'time' , \n",
    "                                method =  'pchip', # pchip , spline\n",
    "                                max_gap = np.timedelta64( days , 'D' )\n",
    "                                ).rolling(time=window).mean(skipna=True)"
   ]
  },
  {
   "cell_type": "code",
   "execution_count": null,
   "metadata": {},
   "outputs": [],
   "source": [
    "save = True\n",
    "if save:\n",
    "    days = 50\n",
    "    #vis.to_netcdf(f'{folder}/vis_raw.nc')\n",
    "    for window in [1,3,5]:\n",
    "        vis_f1 = vis.interpolate_na( dim = 'time' , \n",
    "                                    method =  'pchip', # pchip , spline\n",
    "                                        max_gap = np.timedelta64( days , 'D' )\n",
    "                                        ).rolling(time=window).mean(skipna=True)\n",
    "        vis_f1.to_netcdf(f'{folder}/vis_mgdays_{days}_window_{window}.nc')"
   ]
  },
  {
   "cell_type": "markdown",
   "metadata": {},
   "source": [
    "### Phenology\n",
    "The metrics:\n",
    "\n",
    "            SOS = Date of start of season\n",
    "            POS = Date of peak of season\n",
    "            EOS = Date of end of season\n",
    "            vSOS = Value at start of season\n",
    "            vPOS = Value at peak of season\n",
    "            vEOS = Value at end of season\n",
    "            Trough = Minimum value of season\n",
    "            LOS = Length of season (Days)\n",
    "            AOS = Amplitude of season (in value units)\n",
    "            ROG = Rate of greening\n",
    "            ROS = Rate of senescence"
   ]
  },
  {
   "cell_type": "code",
   "execution_count": null,
   "metadata": {},
   "outputs": [],
   "source": [
    "for i in range(len(farm)):\n",
    "    x,y = farm.centroid[i].x , farm.centroid[i].y\n",
    "    vis_f1[vi].sel(time=slice('2013-07','2014-04')).sel(longitude = x, latitude = y, method='nearest').plot();plt.title(i);plt.grid();plt.show();plt.close()"
   ]
  },
  {
   "cell_type": "code",
   "execution_count": null,
   "metadata": {},
   "outputs": [],
   "source": [
    "# the metrics\n",
    "basic_pheno_stats = [\n",
    "    \"SOS\",\"vSOS\",\n",
    "    \"POS\", \"vPOS\",\n",
    "    \"EOS\", \"vEOS\",\n",
    "    \"Trough\", \"LOS\",\"AOS\",\n",
    "    \"ROG\",\"ROS\",\n",
    "]\n",
    "method_sos = \"first\"\n",
    "method_eos = \"last\""
   ]
  },
  {
   "cell_type": "markdown",
   "metadata": {},
   "source": [
    "#### filtering months\n",
    "https://stackoverflow.com/questions/52533630/how-to-select-an-inter-year-period-with-xarray\n",
    "\n",
    "select only daily data from June, July, and August\n",
    "\n",
    "da_jja_only = ds.sel(time=ds.time.dt.month.isin([6, 7, 8]))"
   ]
  },
  {
   "cell_type": "markdown",
   "metadata": {},
   "source": [
    "### gotta fix the YEAR -> to SEASON \n",
    "the way the original code is written is for the northern hemisphere, not here!"
   ]
  },
  {
   "cell_type": "code",
   "execution_count": null,
   "metadata": {},
   "outputs": [],
   "source": [
    "vis_jd = vis_f1.sel(time=vis_f1.time.dt.month.isin([6,7,8,9,10,11,12,1,2]))"
   ]
  },
  {
   "cell_type": "markdown",
   "metadata": {},
   "source": [
    "#### teste safrinha"
   ]
  },
  {
   "cell_type": "code",
   "execution_count": null,
   "metadata": {},
   "outputs": [],
   "source": [
    "safrinha = True\n",
    "if safrinha:\n",
    "    vis_sel = vis_f1.sel(time=vis_f1.time.dt.month.isin([2,3,4,5,6,7,8]))"
   ]
  },
  {
   "cell_type": "code",
   "execution_count": null,
   "metadata": {},
   "outputs": [],
   "source": [
    "safra = True\n",
    "anos = np.unique(vis_f1.time.dt.year)\n",
    "anos"
   ]
  },
  {
   "cell_type": "code",
   "execution_count": null,
   "metadata": {},
   "outputs": [],
   "source": [
    "ano = 2013\n",
    "da = vis_f1[vi].sel(time=slice(str(ano)+'-06-20',str(ano+1)+'-03-01'))\n",
    "da"
   ]
  },
  {
   "cell_type": "code",
   "execution_count": null,
   "metadata": {},
   "outputs": [],
   "source": [
    "safrinha = False\n",
    "safra = True\n",
    "\n",
    "# store results in dict\n",
    "pheno_results = {}\n",
    "# get years\n",
    "if safrinha:\n",
    "    years = vis_sel[vi].groupby(\"time.year\") #FIXME acho que a confusão está aqui\n",
    "    years_int = [y[0] for y in years]\n",
    "\n",
    "    for year in years_int:\n",
    "        da = dict(years)[year]\n",
    "            # calculate stats\n",
    "        stats = xr_phenology( da, method_sos=method_sos, method_eos=method_eos, stats=basic_pheno_stats,\n",
    "                            verbose=False, )\n",
    "        # add results to dict\n",
    "        pheno_results[str(year)] = stats\n",
    "\n",
    "if safra:\n",
    "    years_int = np.unique(vis_f1.time.dt.year)\n",
    "    for year in years_int[:-1]:\n",
    "        da = vis_f1[vi].sel(time=slice(str(year)+'-06-20',str(year+1)+'-03-01'))\n",
    "            # calculate stats\n",
    "        stats = xr_phenology( da, method_sos=method_sos, method_eos=method_eos, stats=basic_pheno_stats,\n",
    "                            verbose=False, )\n",
    "        # add results to dict\n",
    "        pheno_results[str(year)] = stats\n",
    "\n",
    "\n",
    "# # loop through years and calculate phenology\n",
    "# for year in years_int:\n",
    "#     if safrinha:\n",
    "#         # select year\n",
    "#         da = dict(years)[year]\n",
    "#     if safra:\n",
    "#         da = vis_f1[vi].sel(time=slice(str(year)+'-06-20',str(year+1)+'-03-01'))\n",
    "\n",
    "#     # calculate stats\n",
    "#     stats = xr_phenology(\n",
    "#         da,\n",
    "#         method_sos=method_sos,\n",
    "#         method_eos=method_eos,\n",
    "#         stats=basic_pheno_stats,\n",
    "#         verbose=False,\n",
    "#     )\n",
    "#     # add results to dict\n",
    "#     pheno_results[str(year)] = stats"
   ]
  },
  {
   "cell_type": "markdown",
   "metadata": {},
   "source": [
    "#### data"
   ]
  },
  {
   "cell_type": "code",
   "execution_count": null,
   "metadata": {},
   "outputs": [],
   "source": [
    "for year in years_int[:-1]:\n",
    "    year = str(year)\n",
    "    pheno_results[year].to_netcdf(f'{folder}/Pheno_LAI{year}_safra.nc')"
   ]
  },
  {
   "cell_type": "markdown",
   "metadata": {},
   "source": [
    "#### plots"
   ]
  },
  {
   "cell_type": "code",
   "execution_count": null,
   "metadata": {},
   "outputs": [],
   "source": [
    "# PLOT Phenology\n",
    "def plot_pheno( pheno_results, year, pheno, farm, parcels = 'None'):\n",
    "\n",
    "    da = pheno_results[str(year)][pheno]\n",
    "    if pheno in ['vSOS', 'vPOS', 'vEOS', 'AOS', 'Trough', 'LOS']:\n",
    "        cmap = 'RdYlBu'\n",
    "    if pheno in ['SOS', 'POS', 'EOS']:\n",
    "        cmap = 'bwr'\n",
    "    if pheno in ['ROG' , 'ROS']:\n",
    "        cmap = 'magma'\n",
    "    \n",
    "\n",
    "    plotao = da.hvplot.quadmesh(x = 'longitude' , y = 'latitude', \n",
    "                geo=True, cmap=cmap, robust = True,  height = 400, \n",
    "                width = 600) * parcels.hvplot(geo=True,  line_width = 2, \n",
    "                                                line_color = 'green',  color='none') * farm.hvplot(geo=True, \n",
    "                                                                            line_width = 3, line_color = 'black', color='none') \n",
    "    plotao.opts(opts.Overlay(title=pheno))\n",
    "    # if parcels == 'None':\n",
    "    #     plotao = da.hvplot.quadmesh(x = 'longitude' , y = 'latitude', \n",
    "    #                 geo=True, cmap=cmap, robust = True,  height = 400, \n",
    "    #                 width = 600) * farm.hvplot(geo=True, line_width = 3, line_color = 'black', color='none') \n",
    "    #     plotao.opts(opts.Overlay(title=pheno))\n",
    "    \n",
    "    \n",
    "    return plotao"
   ]
  },
  {
   "cell_type": "code",
   "execution_count": null,
   "metadata": {},
   "outputs": [],
   "source": [
    "y = '2020'\n",
    "phenos = ['SOS', 'POS', 'EOS','vSOS', 'vPOS', 'vEOS', 'AOS', 'Trough', 'LOS']\n",
    "plot_pheno(pheno_results=pheno_results, year=y, pheno='AOS', farm=farm, parcels=parcels)"
   ]
  },
  {
   "cell_type": "code",
   "execution_count": null,
   "metadata": {},
   "outputs": [],
   "source": [
    "plot_pheno(pheno_results=pheno_results, year=y, pheno='SOS', farm=farm, parcels=parcels)"
   ]
  },
  {
   "cell_type": "code",
   "execution_count": null,
   "metadata": {},
   "outputs": [],
   "source": [
    "plot_pheno(pheno_results=pheno_results, year=y, pheno='vSOS', farm=farm, parcels=parcels)"
   ]
  },
  {
   "cell_type": "code",
   "execution_count": null,
   "metadata": {},
   "outputs": [],
   "source": [
    "plot_pheno(pheno_results=pheno_results, year=y, pheno='POS', farm=farm, parcels=parcels)"
   ]
  },
  {
   "cell_type": "code",
   "execution_count": null,
   "metadata": {},
   "outputs": [],
   "source": [
    "plot_pheno(pheno_results=pheno_results, year=y, pheno='vPOS', farm=farm, parcels=parcels)"
   ]
  },
  {
   "cell_type": "code",
   "execution_count": null,
   "metadata": {},
   "outputs": [],
   "source": [
    "plot_pheno(pheno_results=pheno_results, year=y, pheno='EOS', farm=farm, parcels=parcels)"
   ]
  },
  {
   "cell_type": "code",
   "execution_count": null,
   "metadata": {},
   "outputs": [],
   "source": [
    "plot_pheno(pheno_results=pheno_results, year=y, pheno='vEOS', farm=farm, parcels=parcels)"
   ]
  },
  {
   "cell_type": "code",
   "execution_count": null,
   "metadata": {},
   "outputs": [],
   "source": [
    "plot_pheno(pheno_results=pheno_results, year=y, pheno='LOS', farm=farm, parcels=parcels)"
   ]
  },
  {
   "cell_type": "code",
   "execution_count": null,
   "metadata": {},
   "outputs": [],
   "source": [
    "plot_pheno(pheno_results=pheno_results, year=y, pheno='Trough', farm=farm, parcels=parcels)"
   ]
  },
  {
   "cell_type": "code",
   "execution_count": null,
   "metadata": {},
   "outputs": [],
   "source": [
    "plot_pheno(pheno_results=pheno_results, year=y, pheno='ROG', farm=farm, parcels=parcels)"
   ]
  },
  {
   "cell_type": "code",
   "execution_count": null,
   "metadata": {},
   "outputs": [],
   "source": [
    "plot_pheno(pheno_results=pheno_results, year=y, pheno='ROS', farm=farm, parcels=parcels)"
   ]
  },
  {
   "cell_type": "markdown",
   "metadata": {},
   "source": [
    "### The matplotlib way"
   ]
  },
  {
   "cell_type": "code",
   "execution_count": null,
   "metadata": {},
   "outputs": [],
   "source": [
    "da = pheno_results['2013']['AOS']\n",
    "\n",
    "fig, ax = plt.subplots(figsize=(15,8))\n",
    "da.plot.pcolormesh(x = 'longitude' , y = 'latitude', ax=ax, cmap='RdYlBu')\n",
    "farm.plot(ax=ax, edgecolor='black', lw = 3, color='none')"
   ]
  },
  {
   "cell_type": "code",
   "execution_count": null,
   "metadata": {},
   "outputs": [],
   "source": []
  }
 ],
 "metadata": {
  "kernelspec": {
   "display_name": "Python 3 (ipykernel)",
   "language": "python",
   "name": "python3"
  },
  "language_info": {
   "codemirror_mode": {
    "name": "ipython",
    "version": 3
   },
   "file_extension": ".py",
   "mimetype": "text/x-python",
   "name": "python",
   "nbconvert_exporter": "python",
   "pygments_lexer": "ipython3",
   "version": "3.10.12"
  }
 },
 "nbformat": 4,
 "nbformat_minor": 4
}
